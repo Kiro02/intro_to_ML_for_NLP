{
 "cells": [
  {
   "cell_type": "markdown",
   "metadata": {},
   "source": [
    "# コロナ社「言語処理のための機械学習入門」\n",
    "演習問題をPythonで解いていきます。"
   ]
  },
  {
   "cell_type": "markdown",
   "metadata": {},
   "source": [
    "# 各種関数の定義\n",
    "多用しそうな関数を先に定義しておきます。一応自分で考えて作ったのでかなり見苦しいです。"
   ]
  },
  {
   "cell_type": "code",
   "execution_count": 31,
   "metadata": {},
   "outputs": [],
   "source": [
    "#ダミー単語追加の関数\n",
    "def add_dummy(phrase):\n",
    "    \"\"\"\n",
    "    文の前後にBとEを追加\n",
    "    \"\"\"\n",
    "    phrase = \"B\" + \" \" + phrase + \" \" + \"E\"\n",
    "    return phrase"
   ]
  },
  {
   "cell_type": "code",
   "execution_count": 42,
   "metadata": {},
   "outputs": [],
   "source": [
    "#単語n-gram生成関数\n",
    "def word_n_gram(phrase, num, lang=\"english\", eliminate_panctures=True, hyphen=True):\n",
    "    \"\"\"\n",
    "    phrase: input phrase\n",
    "    num: n of n-gram\n",
    "    lang: language\n",
    "    eliminate_panctures: eliminate \",\" \".\" \":\" or not\n",
    "    hyphen: if hyphen is True, the n-gram turns out like aa-bb-cc\n",
    "    \"\"\"\n",
    "    \n",
    "    if lang == \"english\":    #言語選択\n",
    "        if eliminate_panctures == True: #句読点排除の有無\n",
    "            phrase = phrase.replace(\",\",\"\").replace(\".\",\"\").replace(\":\",\"\")\n",
    "            word_list = phrase.split()\n",
    "        else:\n",
    "            word_list = phrase.split()\n",
    "    elif lang == \"japanese\":\n",
    "        if eliminate_panctures == True:\n",
    "            phrase = phrase.replace(\"、\",\"\").replace(\"。\",\"\")\n",
    "            word_list = phrase.split()\n",
    "        else:\n",
    "            word_list = phrase.split()\n",
    "            \n",
    "    n_gram = []\n",
    "    \n",
    "    if hyphen == True:\n",
    "        for i in range(len(word_list) -(num-1)):\n",
    "            n = 0\n",
    "            target = \"\"\n",
    "            while n < num:\n",
    "                target += (word_list[i + n] + \"-\")\n",
    "                n += 1\n",
    "            n_gram.append(target[:-1])\n",
    "    else:\n",
    "        for i in range(len(word_list) -(num-1)):\n",
    "            n = 0\n",
    "            target = \"\"\n",
    "            while n < num:\n",
    "                target += word_list[i + n]\n",
    "                n += 1\n",
    "            n_gram.append(target)\n",
    "    \n",
    "    return n_gram"
   ]
  },
  {
   "cell_type": "code",
   "execution_count": 65,
   "metadata": {},
   "outputs": [],
   "source": [
    "#文字n-gram生成関数\n",
    "def character_n_gram(phrase, num, lang=\"english\", eliminate_panctures=True, hyphen=False):\n",
    "    \"\"\"\n",
    "    phrase: input phrase\n",
    "    num: n of n-gram\n",
    "    lang: language\n",
    "    eliminate_panctures: eliminate \",\" \".\" \":\" or not\n",
    "    hyphen: if hyphen is True, the n-gram turns out like a-b-c\n",
    "    \"\"\"\n",
    "    \n",
    "    if lang == \"english\":    #言語選択\n",
    "        if eliminate_panctures == True: #句読点排除の有無\n",
    "            phrase = phrase.replace(\",\",\"\").replace(\".\",\"\").replace(\":\",\"\").replace(\" \",\"\")\n",
    "        else:\n",
    "            phrase = phrase.replace(\" \",\"\")\n",
    "    elif lang == \"japanese\":\n",
    "        if eliminate_panctures == True:\n",
    "            phrase = phrase.replace(\"、\",\"\").replace(\"。\",\"\")\n",
    "        else:\n",
    "            phrase = phrase\n",
    "            \n",
    "    n_gram = []\n",
    "    \n",
    "    if hyphen == True:\n",
    "        for i in range(len(phrase) -(num-1)):\n",
    "            n = 0\n",
    "            target = \"\"\n",
    "            while n < num:\n",
    "                target += (phrase[i+n] + \"-\")\n",
    "                n += 1\n",
    "            n_gram.append(target[:-1])\n",
    "    else:\n",
    "        for i in range(len(phrase) -(num-1)):\n",
    "            n = 0\n",
    "            target = \"\"\n",
    "            while n < num:\n",
    "                target += phrase[i+n]\n",
    "                n += 1\n",
    "            n_gram.append(target)\n",
    "    \n",
    "    return n_gram"
   ]
  },
  {
   "cell_type": "markdown",
   "metadata": {},
   "source": [
    "#### 例題2.1"
   ]
  },
  {
   "cell_type": "code",
   "execution_count": 66,
   "metadata": {},
   "outputs": [
    {
     "name": "stdout",
     "output_type": "stream",
     "text": [
      "['nurture', 'passes', 'nature']\n",
      "['nurture-passes', 'passes-nature']\n",
      "['nurture-passes-nature']\n"
     ]
    }
   ],
   "source": [
    "example = \"nurture passes  nature\"\n",
    "print(word_n_gram(example,1))\n",
    "print(word_n_gram(example,2))\n",
    "print(word_n_gram(example,3))"
   ]
  },
  {
   "cell_type": "markdown",
   "metadata": {},
   "source": [
    "#### 例題2.2"
   ]
  },
  {
   "cell_type": "code",
   "execution_count": 67,
   "metadata": {},
   "outputs": [
    {
     "name": "stdout",
     "output_type": "stream",
     "text": [
      "['B-nurture', 'nurture-passes', 'passes-nature', 'nature-E']\n"
     ]
    }
   ],
   "source": [
    "example = add_dummy(example)\n",
    "print(word_n_gram(example,2))"
   ]
  },
  {
   "cell_type": "markdown",
   "metadata": {},
   "source": [
    "#### 例題2.3"
   ]
  },
  {
   "cell_type": "code",
   "execution_count": 70,
   "metadata": {},
   "outputs": [
    {
     "name": "stdout",
     "output_type": "stream",
     "text": [
      "['nu', 'ur', 'rt', 'tu', 'ur', 're']\n",
      "['nur', 'urt', 'rtu', 'tur', 'ure']\n"
     ]
    }
   ],
   "source": [
    "string = \"nurture\"\n",
    "print(character_n_gram(string,2))\n",
    "print(character_n_gram(string,3))"
   ]
  },
  {
   "cell_type": "markdown",
   "metadata": {},
   "source": [
    "#### 例題2.4"
   ]
  },
  {
   "cell_type": "code",
   "execution_count": 71,
   "metadata": {},
   "outputs": [
    {
     "name": "stdout",
     "output_type": "stream",
     "text": [
      "['金持', '持ち', 'ち喧', '喧嘩', '嘩せ', 'せず']\n"
     ]
    }
   ],
   "source": [
    "bun = \"金持ち喧嘩せず\"\n",
    "print(character_n_gram(bun,2))"
   ]
  },
  {
   "cell_type": "code",
   "execution_count": null,
   "metadata": {},
   "outputs": [],
   "source": []
  }
 ],
 "metadata": {
  "kernelspec": {
   "display_name": "Python 3",
   "language": "python",
   "name": "python3"
  },
  "language_info": {
   "codemirror_mode": {
    "name": "ipython",
    "version": 3
   },
   "file_extension": ".py",
   "mimetype": "text/x-python",
   "name": "python",
   "nbconvert_exporter": "python",
   "pygments_lexer": "ipython3",
   "version": "3.6.4"
  }
 },
 "nbformat": 4,
 "nbformat_minor": 2
}
